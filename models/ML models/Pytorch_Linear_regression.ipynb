{
  "nbformat": 4,
  "nbformat_minor": 0,
  "metadata": {
    "colab": {
      "provenance": []
    },
    "kernelspec": {
      "name": "python3",
      "display_name": "Python 3"
    },
    "language_info": {
      "name": "python"
    }
  },
  "cells": [
    {
      "cell_type": "code",
      "execution_count": null,
      "metadata": {
        "id": "ny2J1PAjWefX"
      },
      "outputs": [],
      "source": [
        "import torch\n",
        "import torch.nn as nn\n",
        "import numpy as np\n",
        "import matplotlib.pyplot as plt\n",
        "\n",
        "# Generate some sample data\n",
        "# y = 2x + 3 + noise\n",
        "np.random.seed(42)\n",
        "X = np.random.rand(100, 1).astype(np.float32)  # 100 samples, 1 feature\n",
        "y = 2 * X + 3 + 0.1 * np.random.randn(100, 1).astype(np.float32)\n",
        "\n",
        "# Convert data to PyTorch tensors\n",
        "X_tensor = torch.from_numpy(X)\n",
        "y_tensor = torch.from_numpy(y)"
      ]
    },
    {
      "cell_type": "code",
      "source": [
        "# Define the linear regression model\n",
        "class LinearRegressionModel(nn.Module):\n",
        "    def __init__(self):\n",
        "        super(LinearRegressionModel, self).__init__()\n",
        "        self.linear = nn.Linear(1, 1)  # 1 input feature, 1 output feature\n",
        "\n",
        "    def forward(self, x):\n",
        "        return self.linear(x)\n",
        "\n",
        "# Instantiate the model\n",
        "model = LinearRegressionModel()"
      ],
      "metadata": {
        "id": "SVgUeDCdW2Ig"
      },
      "execution_count": null,
      "outputs": []
    },
    {
      "cell_type": "code",
      "source": [
        "\n",
        "# Define the loss function and optimizer\n",
        "criterion = nn.MSELoss()  # Mean squared error\n",
        "optimizer = torch.optim.SGD(model.parameters(), lr=0.01)  # Stochastic gradient descent\n",
        "\n",
        "# Train the model\n",
        "epochs = 1000\n",
        "for epoch in range(epochs):\n",
        "    # Forward pass\n",
        "    predictions = model(X_tensor)\n",
        "    loss = criterion(predictions, y_tensor)\n",
        "\n",
        "    # Backward pass\n",
        "    optimizer.zero_grad()\n",
        "    loss.backward()\n",
        "\n",
        "    # Update weights\n",
        "    optimizer.step()\n",
        "\n",
        "    # Print loss every 100 epochs\n",
        "    if (epoch + 1) % 100 == 0:\n",
        "        print(f\"Epoch [{epoch + 1}/{epochs}], Loss: {loss.item():.4f}\")"
      ],
      "metadata": {
        "colab": {
          "base_uri": "https://localhost:8080/"
        },
        "id": "f4oUnZ--W3W3",
        "outputId": "03c7a9f7-7e96-4a80-a158-443b36368b7f"
      },
      "execution_count": null,
      "outputs": [
        {
          "output_type": "stream",
          "name": "stdout",
          "text": [
            "Epoch [100/1000], Loss: 0.1400\n",
            "Epoch [200/1000], Loss: 0.0197\n",
            "Epoch [300/1000], Loss: 0.0162\n",
            "Epoch [400/1000], Loss: 0.0142\n",
            "Epoch [500/1000], Loss: 0.0127\n",
            "Epoch [600/1000], Loss: 0.0116\n",
            "Epoch [700/1000], Loss: 0.0107\n",
            "Epoch [800/1000], Loss: 0.0100\n",
            "Epoch [900/1000], Loss: 0.0096\n",
            "Epoch [1000/1000], Loss: 0.0092\n"
          ]
        }
      ]
    },
    {
      "cell_type": "code",
      "source": [
        "# Extract learned parameters\n",
        "[w, b] = model.linear.weight.detach().numpy(), model.linear.bias.detach().numpy()\n",
        "print(f\"Learned weight: {w[0][0]:.4f}, Learned bias: {b[0]:.4f}\")\n",
        "\n",
        "# Plot the results\n",
        "predicted = model(X_tensor).detach().numpy()\n",
        "plt.scatter(X, y, label=\"Original data\", color=\"blue\")\n",
        "plt.plot(X, predicted, label=\"Fitted line\", color=\"red\")\n",
        "plt.legend()\n",
        "plt.show()"
      ],
      "metadata": {
        "colab": {
          "base_uri": "https://localhost:8080/",
          "height": 447
        },
        "id": "4ZzLVPF4W7gP",
        "outputId": "683a8ebe-13df-4c7d-c09f-4039b49380b3"
      },
      "execution_count": null,
      "outputs": [
        {
          "output_type": "stream",
          "name": "stdout",
          "text": [
            "Learned weight: 2.0662, Learned bias: 2.9647\n"
          ]
        },
        {
          "output_type": "display_data",
          "data": {
            "text/plain": [
              "<Figure size 640x480 with 1 Axes>"
            ],
            "image/png": "[encoded data removed]"
          },
          "metadata": {}
        }
      ]
    }
  ]
}